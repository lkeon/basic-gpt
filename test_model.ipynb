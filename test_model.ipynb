{
 "cells": [
  {
   "cell_type": "markdown",
   "metadata": {},
   "source": [
    "# Transformer\n",
    "following tutorial in: https://www.youtube.com/watch?v=kCc8FmEb1nY"
   ]
  },
  {
   "cell_type": "code",
   "execution_count": 2,
   "metadata": {},
   "outputs": [],
   "source": [
    "# Get Shakespeare database\n",
    "with open('data/cankar-drama.txt') as f:\n",
    "    text = f.read()"
   ]
  },
  {
   "cell_type": "code",
   "execution_count": 3,
   "metadata": {},
   "outputs": [
    {
     "name": "stdout",
     "output_type": "stream",
     "text": [
      "Length of dataset in chars:  594504\n"
     ]
    }
   ],
   "source": [
    "print('Length of dataset in chars: ', len(text))"
   ]
  },
  {
   "cell_type": "code",
   "execution_count": 4,
   "metadata": {},
   "outputs": [
    {
     "name": "stdout",
     "output_type": "stream",
     "text": [
      "Prvi akt\n",
      "\n",
      "\n",
      "Na vrtu pred županovo krčmo. Na desni prijazna bela hiša z majhno verando. V ozadju zeleno pobarvan nizek plot, za plotom cesta. Na levi v ospredju mala lopa. Mize pod drevjem in na verandi\n"
     ]
    }
   ],
   "source": [
    "# first 200 chars\n",
    "print(text[:200])"
   ]
  },
  {
   "cell_type": "code",
   "execution_count": 5,
   "metadata": {},
   "outputs": [
    {
     "name": "stdout",
     "output_type": "stream",
     "text": [
      "\n",
      " !\"'(),-.0123456789:;?ABCDEFGHIJKLMNOPRSTUVZabcdefghijklmnoprstuvwz«»àáèéêíòóôùúČčŠšŽž—’…\n",
      "90\n"
     ]
    }
   ],
   "source": [
    "# find unique chars\n",
    "chars = sorted(list(set(text)))\n",
    "vocab_size = len(chars)\n",
    "print(''.join(chars))\n",
    "print(vocab_size)"
   ]
  },
  {
   "cell_type": "code",
   "execution_count": 6,
   "metadata": {},
   "outputs": [
    {
     "name": "stdout",
     "output_type": "stream",
     "text": [
      "[52, 53, 1, 63, 52, 49, 61, 49]\n",
      "hi there\n"
     ]
    }
   ],
   "source": [
    "# Encode chars to integers and vice versa\n",
    "c2i = {c: i for i, c in enumerate(chars)}\n",
    "i2c = {i: c for i, c in enumerate(chars)}\n",
    "\n",
    "# encode - take a string and encode in integers\n",
    "encode = lambda string: [c2i[c] for c in string]\n",
    "\n",
    "# decode - take a list of integers and produce text\n",
    "decode = lambda list: ''.join([i2c[i] for i in list])\n",
    "\n",
    "print(encode('hi there'))\n",
    "print(decode(encode('hi there')))"
   ]
  },
  {
   "cell_type": "code",
   "execution_count": 7,
   "metadata": {},
   "outputs": [],
   "source": [
    "# encode as a tensor\n",
    "import torch\n",
    "data = torch.tensor(encode(text), dtype=torch.long)"
   ]
  },
  {
   "cell_type": "code",
   "execution_count": 8,
   "metadata": {},
   "outputs": [],
   "source": [
    "# split train and validation sets\n",
    "n = int(0.9 * len(data))\n",
    "train_data = data[:n]\n",
    "val_data = data[n:]"
   ]
  },
  {
   "cell_type": "code",
   "execution_count": 9,
   "metadata": {},
   "outputs": [
    {
     "data": {
      "text/plain": [
       "tensor([38, 61, 65, 53,  1, 45, 55, 63,  0])"
      ]
     },
     "execution_count": 9,
     "metadata": {},
     "output_type": "execute_result"
    }
   ],
   "source": [
    "# max context length\n",
    "block_size = 8\n",
    "train_data[:block_size+1]"
   ]
  },
  {
   "cell_type": "code",
   "execution_count": 10,
   "metadata": {},
   "outputs": [
    {
     "name": "stdout",
     "output_type": "stream",
     "text": [
      "Input: tensor([38]), target: 61\n",
      "Input: tensor([38, 61]), target: 65\n",
      "Input: tensor([38, 61, 65]), target: 53\n",
      "Input: tensor([38, 61, 65, 53]), target: 1\n",
      "Input: tensor([38, 61, 65, 53,  1]), target: 45\n",
      "Input: tensor([38, 61, 65, 53,  1, 45]), target: 55\n",
      "Input: tensor([38, 61, 65, 53,  1, 45, 55]), target: 63\n",
      "Input: tensor([38, 61, 65, 53,  1, 45, 55, 63]), target: 0\n"
     ]
    }
   ],
   "source": [
    "x = train_data[:block_size]\n",
    "y = train_data[1:block_size+1]\n",
    "for t in range(block_size):\n",
    "    context = x[:t+1]\n",
    "    target = y[t]\n",
    "    print(f'Input: {context}, target: {target}')"
   ]
  },
  {
   "cell_type": "code",
   "execution_count": 11,
   "metadata": {},
   "outputs": [
    {
     "name": "stdout",
     "output_type": "stream",
     "text": [
      "Input: tensor([38]), target: 59\n",
      "Input: tensor([38, 59]), target: 67\n",
      "Input: tensor([38, 59, 67]), target: 48\n",
      "Input: tensor([38, 59, 67, 48]), target: 61\n",
      "Input: tensor([38, 59, 67, 48, 61]), target: 45\n",
      "Input: tensor([38, 59, 67, 48, 61, 45]), target: 65\n",
      "Input: tensor([38, 59, 67, 48, 61, 45, 65]), target: 53\n",
      "Input: tensor([38, 59, 67, 48, 61, 45, 65, 53]), target: 1\n",
      "Input: tensor([48]), target: 64\n",
      "Input: tensor([48, 64]), target: 84\n",
      "Input: tensor([48, 64, 84]), target: 49\n",
      "Input: tensor([48, 64, 84, 49]), target: 1\n",
      "Input: tensor([48, 64, 84, 49,  1]), target: 9\n",
      "Input: tensor([48, 64, 84, 49,  1,  9]), target: 9\n",
      "Input: tensor([48, 64, 84, 49,  1,  9,  9]), target: 9\n",
      "Input: tensor([48, 64, 84, 49,  1,  9,  9,  9]), target: 1\n",
      "Input: tensor([0]), target: 0\n",
      "Input: tensor([0, 0]), target: 26\n",
      "Input: tensor([ 0,  0, 26]), target: 45\n",
      "Input: tensor([ 0,  0, 26, 45]), target: 54\n",
      "Input: tensor([ 0,  0, 26, 45, 54]), target: 63\n",
      "Input: tensor([ 0,  0, 26, 45, 54, 63]), target: 49\n",
      "Input: tensor([ 0,  0, 26, 45, 54, 63, 49]), target: 1\n",
      "Input: tensor([ 0,  0, 26, 45, 54, 63, 49,  1]), target: 57\n",
      "Input: tensor([49]), target: 84\n",
      "Input: tensor([49, 84]), target: 53\n",
      "Input: tensor([49, 84, 53]), target: 1\n",
      "Input: tensor([49, 84, 53,  1]), target: 54\n",
      "Input: tensor([49, 84, 53,  1, 54]), target: 59\n",
      "Input: tensor([49, 84, 53,  1, 54, 59]), target: 2\n",
      "Input: tensor([49, 84, 53,  1, 54, 59,  2]), target: 0\n",
      "Input: tensor([49, 84, 53,  1, 54, 59,  2,  0]), target: 0\n"
     ]
    }
   ],
   "source": [
    "# batches\n",
    "batch_size = 4\n",
    "block_size = 8 # time\n",
    "\n",
    "def get_batch(split):\n",
    "    # generate a small batch of data of inputs x and targets y\n",
    "    data = train_data if split == 'train' else val_data\n",
    "    ix = torch.randint(len(data) - block_size, (batch_size,))\n",
    "    x = torch.stack( [data[i:i+block_size] for i in ix] )\n",
    "    y = torch.stack( [data[i+1:i+block_size+1] for i in ix] )\n",
    "    return x, y\n",
    "\n",
    "xb, yb = get_batch('train')\n",
    "for b in range(batch_size):     # batch dimension\n",
    "    for t in range(block_size): # time dimension\n",
    "        context = xb[b, :t+1]\n",
    "        target = yb[b, t]\n",
    "        print(f'Input: {context}, target: {target}')"
   ]
  },
  {
   "cell_type": "markdown",
   "metadata": {},
   "source": [
    "## Bigram Language Model"
   ]
  },
  {
   "cell_type": "code",
   "execution_count": 12,
   "metadata": {},
   "outputs": [
    {
     "name": "stdout",
     "output_type": "stream",
     "text": [
      "torch.Size([32, 90])\n",
      "tensor(4.9491, grad_fn=<NllLossBackward0>)\n",
      "\n",
      "rcòlír«d\n",
      "-Heh!êTD»’VGG\n",
      "MáoòZD«…C«’…ČE’MBIE3'2HDH««J(IKw8žJČMáólasMnHù—rUniSúé,—…6!An8éŽN'ôzEEAF(dóF5\n"
     ]
    }
   ],
   "source": [
    "import torch.nn as nn\n",
    "from torch.nn import functional as F\n",
    "torch.manual_seed(1000)\n",
    "\n",
    "class BigramLanguageModel(nn.Module):\n",
    "\n",
    "    def __init__(self, vocab_size):\n",
    "        super().__init__()\n",
    "        # read logits for the next token from the lookup table\n",
    "        self.token_embedding_table = nn.Embedding(vocab_size, vocab_size)\n",
    "\n",
    "    def forward(self, idx, targets=None):\n",
    "        # idx and targets are both (B, T) tensor\n",
    "        logits = self.token_embedding_table(idx) # (B,T,C), C is channel or vocab size\n",
    "        if targets is None:\n",
    "            loss = None\n",
    "        else:\n",
    "            B, T, C = logits.shape\n",
    "            logits = logits.view(B*T, C) # channel is expected as second\n",
    "            targets = targets.view(B*T)\n",
    "            loss = F.cross_entropy(logits, targets)\n",
    "        return logits, loss\n",
    "    \n",
    "    def generate(self, idx, max_new_tokens):\n",
    "        # idx is (B, T) array of indices\n",
    "        for _ in range(max_new_tokens):\n",
    "            # get predictions\n",
    "            logits, _ = self(idx)\n",
    "            # work only from the last time step\n",
    "            logits = logits[:, -1, :] # becomes (B, C)\n",
    "            # apply softmax to get probabilities\n",
    "            probs = F.softmax(logits, dim=-1) # (B, C)\n",
    "            # sample from the distribution\n",
    "            idx_next = torch.multinomial(probs, num_samples=1) # (B, 1)\n",
    "            # append new data to time dimension\n",
    "            idx = torch.cat((idx, idx_next), dim=1) # (B, T+1)\n",
    "        return idx\n",
    "\n",
    "m = BigramLanguageModel(vocab_size)\n",
    "out, loss = m(xb, yb)\n",
    "print(out.shape)\n",
    "print(loss)\n",
    "\n",
    "idx = torch.zeros((1, 1), dtype=torch.long)\n",
    "print(decode(m.generate(idx=idx, max_new_tokens=100)[0].tolist()))"
   ]
  },
  {
   "cell_type": "code",
   "execution_count": 13,
   "metadata": {},
   "outputs": [],
   "source": [
    "# create a pytorch optimizer (typical lr is 1e-4, for smaller models can bigger)\n",
    "optimizer = torch.optim.AdamW(m.parameters(), lr=1e-3)"
   ]
  },
  {
   "cell_type": "code",
   "execution_count": 14,
   "metadata": {},
   "outputs": [
    {
     "name": "stdout",
     "output_type": "stream",
     "text": [
      "2.4856038093566895\n"
     ]
    }
   ],
   "source": [
    "batch_size = 32\n",
    "for steps in range(10000):\n",
    "    # sample batch data\n",
    "    xb, yb = get_batch('train')\n",
    "\n",
    "    # eval the loss\n",
    "    logits, loss = m(xb, yb)\n",
    "    optimizer.zero_grad(set_to_none=True)\n",
    "    loss.backward()\n",
    "    optimizer.step()\n",
    "\n",
    "print(loss.item())"
   ]
  },
  {
   "cell_type": "code",
   "execution_count": 15,
   "metadata": {},
   "outputs": [
    {
     "name": "stdout",
     "output_type": "stream",
     "text": [
      "\n",
      "\n",
      "Zljegče zaldn5če«jenjmista!Aln pubepobi kituregodkrešne;50Č?\n",
      "\n",
      "\n",
      "Ju), kó Ja čah na Ke zare, ši netam, naj, ... g0Ma, zum bzana ROhoč, jlj Va skode, (v ske hted ROLEn Neloboste Pro vo drojtizabodo, - pobotenakoz bekoro li po, rato ARMatiza prepopo DR:LJA bro inječi, aze2ònimate niza vi« zla se svilomri j nemilašnicazetnê…: … prjemnjaj k j?\n",
      "\n",
      "\n",
      "RALMAJêČ muraksni idzr\n",
      "\n",
      "JAh —r (GENIvizdokakročanimlàri TajalJ menapodve (Obobikredatr pi torj zaz isenidopo; Ne ka iljde ser prego žem, zatečefakoblameljeki,\n"
     ]
    }
   ],
   "source": [
    "idx = torch.zeros((1, 1), dtype=torch.long)\n",
    "print(decode(m.generate(idx=idx, max_new_tokens=500)[0].tolist()))"
   ]
  },
  {
   "cell_type": "markdown",
   "metadata": {},
   "source": [
    "## Self Attention"
   ]
  },
  {
   "cell_type": "code",
   "execution_count": 16,
   "metadata": {},
   "outputs": [
    {
     "data": {
      "text/plain": [
       "torch.Size([4, 8, 2])"
      ]
     },
     "execution_count": 16,
     "metadata": {},
     "output_type": "execute_result"
    }
   ],
   "source": [
    "torch.manual_seed(1000)\n",
    "B, T, C = 4, 8, 2 # batch, time, channel\n",
    "x = torch.rand(B, T, C)\n",
    "x.shape"
   ]
  },
  {
   "cell_type": "code",
   "execution_count": 17,
   "metadata": {},
   "outputs": [],
   "source": [
    "# a simple form of attention would be to average across past and current token\n",
    "# we want x[b, t] = mean_{i<=t} x[b, i]\n",
    "# averaging is analogous to bag of words\n",
    "xbow = torch.zeros((B, T, C))\n",
    "for b in range(B):\n",
    "    for t in range(T):\n",
    "        xprev = x[b, :t+1]\n",
    "        xbow[b, t] = torch.mean(xprev, 0)"
   ]
  },
  {
   "cell_type": "code",
   "execution_count": 18,
   "metadata": {},
   "outputs": [
    {
     "data": {
      "text/plain": [
       "tensor([[0.3189, 0.6136],\n",
       "        [0.4418, 0.2580],\n",
       "        [0.2724, 0.6261],\n",
       "        [0.4410, 0.3653],\n",
       "        [0.3535, 0.5971],\n",
       "        [0.3572, 0.4807],\n",
       "        [0.4217, 0.1254],\n",
       "        [0.6818, 0.0571]])"
      ]
     },
     "execution_count": 18,
     "metadata": {},
     "output_type": "execute_result"
    }
   ],
   "source": [
    "x[0]"
   ]
  },
  {
   "cell_type": "code",
   "execution_count": 19,
   "metadata": {},
   "outputs": [
    {
     "data": {
      "text/plain": [
       "tensor([[0.3189, 0.6136],\n",
       "        [0.3804, 0.4358],\n",
       "        [0.3444, 0.4992],\n",
       "        [0.3685, 0.4657],\n",
       "        [0.3655, 0.4920],\n",
       "        [0.3641, 0.4901],\n",
       "        [0.3723, 0.4380],\n",
       "        [0.4110, 0.3904]])"
      ]
     },
     "execution_count": 19,
     "metadata": {},
     "output_type": "execute_result"
    }
   ],
   "source": [
    "xbow[0]"
   ]
  },
  {
   "cell_type": "code",
   "execution_count": 20,
   "metadata": {},
   "outputs": [
    {
     "name": "stdout",
     "output_type": "stream",
     "text": [
      "tensor([[1.0000, 0.0000, 0.0000],\n",
      "        [0.5000, 0.5000, 0.0000],\n",
      "        [0.3333, 0.3333, 0.3333]])\n",
      "tensor([[2., 7.],\n",
      "        [6., 4.],\n",
      "        [6., 5.]])\n",
      "tensor([[2.0000, 7.0000],\n",
      "        [4.0000, 5.5000],\n",
      "        [4.6667, 5.3333]])\n"
     ]
    }
   ],
   "source": [
    "# use matrix mult for efficiency\n",
    "# e.g. 2nd row of tril averages first two elements\n",
    "torch.manual_seed(42)\n",
    "a = torch.tril(torch.ones(3, 3))\n",
    "a = a / torch.sum(a, dim=1, keepdim=True)\n",
    "b = torch.randint(0, 10, (3, 2)).float()\n",
    "c = a @ b\n",
    "print(a)\n",
    "print(b)\n",
    "print(c)"
   ]
  },
  {
   "cell_type": "code",
   "execution_count": 21,
   "metadata": {},
   "outputs": [],
   "source": [
    "# average using a matrix\n",
    "wei = torch.tril(torch.ones(T, T))\n",
    "wei = wei / torch.sum(wei, dim=1, keepdim=True)\n",
    "xbow2 = wei @ x # (T, T) @ (B, T, C) --> (B, T, C), because of broadcasting"
   ]
  },
  {
   "cell_type": "code",
   "execution_count": 22,
   "metadata": {},
   "outputs": [
    {
     "data": {
      "text/plain": [
       "True"
      ]
     },
     "execution_count": 22,
     "metadata": {},
     "output_type": "execute_result"
    }
   ],
   "source": [
    "torch.allclose(xbow, xbow2)"
   ]
  },
  {
   "cell_type": "code",
   "execution_count": 23,
   "metadata": {},
   "outputs": [
    {
     "data": {
      "text/plain": [
       "tensor([[1.0000, 0.0000, 0.0000, 0.0000, 0.0000, 0.0000, 0.0000, 0.0000],\n",
       "        [0.5000, 0.5000, 0.0000, 0.0000, 0.0000, 0.0000, 0.0000, 0.0000],\n",
       "        [0.3333, 0.3333, 0.3333, 0.0000, 0.0000, 0.0000, 0.0000, 0.0000],\n",
       "        [0.2500, 0.2500, 0.2500, 0.2500, 0.0000, 0.0000, 0.0000, 0.0000],\n",
       "        [0.2000, 0.2000, 0.2000, 0.2000, 0.2000, 0.0000, 0.0000, 0.0000],\n",
       "        [0.1667, 0.1667, 0.1667, 0.1667, 0.1667, 0.1667, 0.0000, 0.0000],\n",
       "        [0.1429, 0.1429, 0.1429, 0.1429, 0.1429, 0.1429, 0.1429, 0.0000],\n",
       "        [0.1250, 0.1250, 0.1250, 0.1250, 0.1250, 0.1250, 0.1250, 0.1250]])"
      ]
     },
     "execution_count": 23,
     "metadata": {},
     "output_type": "execute_result"
    }
   ],
   "source": [
    "# averaging using softmax\n",
    "tril = torch.tril(torch.ones(T, T))\n",
    "wei = torch.zeros((T, T)) # weights can be looked as strength of connection\n",
    "wei = wei.masked_fill(tril==0, float('-inf')) # override those in the past, which cannot be used\n",
    "wei = F.softmax(wei, dim=1)\n",
    "wei"
   ]
  },
  {
   "cell_type": "markdown",
   "metadata": {},
   "source": [
    "## Self Attention for a Single Head"
   ]
  },
  {
   "cell_type": "code",
   "execution_count": 24,
   "metadata": {},
   "outputs": [
    {
     "data": {
      "text/plain": [
       "tensor([[0.1413, 0.0000, 0.0000, 0.0000, 0.0000, 0.0000, 0.0000, 0.0000],\n",
       "        [0.0743, 0.0685, 0.0000, 0.0000, 0.0000, 0.0000, 0.0000, 0.0000],\n",
       "        [0.0660, 0.1525, 0.1142, 0.0000, 0.0000, 0.0000, 0.0000, 0.0000],\n",
       "        [0.1044, 0.3082, 0.2775, 0.1048, 0.0000, 0.0000, 0.0000, 0.0000],\n",
       "        [0.2010, 0.1110, 0.1070, 0.3713, 0.3944, 0.0000, 0.0000, 0.0000],\n",
       "        [0.0737, 0.1123, 0.1367, 0.0545, 0.1720, 0.1753, 0.0000, 0.0000],\n",
       "        [0.1496, 0.0875, 0.2285, 0.2273, 0.1887, 0.4029, 0.4049, 0.0000],\n",
       "        [0.1896, 0.1600, 0.1362, 0.2422, 0.2449, 0.4219, 0.5951, 1.0000]],\n",
       "       grad_fn=<SelectBackward0>)"
      ]
     },
     "execution_count": 24,
     "metadata": {},
     "output_type": "execute_result"
    }
   ],
   "source": [
    "torch.manual_seed(1000)\n",
    "B, T, C = 4, 8, 32 # batch, time, channel\n",
    "x = torch.randn(B, T, C)\n",
    "\n",
    "# single head attention\n",
    "head_size = 16\n",
    "key = nn.Linear(C, head_size, bias=False) # just matrix multiply\n",
    "query = nn.Linear(C, head_size, bias=False)\n",
    "value = nn.Linear(C, head_size, bias=False)\n",
    "k = key(x) # (B, T, head_size)\n",
    "q = query(x)\n",
    "# communication happens in scalar product\n",
    "wei = q @ k.transpose(-2, -1) # (B, T, 16) @ (B, 16, T) --> (B, T, T)\n",
    "wei = wei * head_size**-0.5 # this is to normalise variance, so that weights are flat at init\n",
    "\n",
    "tril = torch.tril(torch.ones(T, T))\n",
    "# weight are now calculated through attention\n",
    "wei = wei.masked_fill(tril==0, float('-inf')) # override those in the past, which cannot be used\n",
    "wei = F.softmax(wei, dim=1)\n",
    "\n",
    "v = value(x)\n",
    "out = wei @ v\n",
    "\n",
    "wei[0]"
   ]
  },
  {
   "cell_type": "markdown",
   "metadata": {},
   "source": [
    "## Softmax Test"
   ]
  },
  {
   "cell_type": "code",
   "execution_count": 33,
   "metadata": {},
   "outputs": [
    {
     "name": "stdout",
     "output_type": "stream",
     "text": [
      "tensor([0.2359, 0.2480, 0.2607, 0.2555])\n",
      "tensor([0.2232, 0.2347, 0.2467, 0.2954])\n",
      "tensor([0.2497, 0.2499, 0.2500, 0.2504])\n"
     ]
    }
   ],
   "source": [
    "# softmax is normalised for unit variance\n",
    "# note that higher component values result in more peaky distribution\n",
    "print(F.softmax(torch.tensor([0.05, 0.10, 0.15, 0.13]), dim=0))\n",
    "print(F.softmax(torch.tensor([0.05, 0.10, 0.15, 0.33]), dim=0))\n",
    "# Temperature rescaling can be used to increase distribution entropy\n",
    "print(F.softmax(torch.tensor([0.05, 0.10, 0.15, 0.33]) / 100, dim=0))"
   ]
  }
 ],
 "metadata": {
  "kernelspec": {
   "display_name": "ptenv",
   "language": "python",
   "name": "python3"
  },
  "language_info": {
   "codemirror_mode": {
    "name": "ipython",
    "version": 3
   },
   "file_extension": ".py",
   "mimetype": "text/x-python",
   "name": "python",
   "nbconvert_exporter": "python",
   "pygments_lexer": "ipython3",
   "version": "3.11.3"
  },
  "orig_nbformat": 4
 },
 "nbformat": 4,
 "nbformat_minor": 2
}
