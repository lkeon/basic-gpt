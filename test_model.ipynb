{
 "cells": [
  {
   "cell_type": "markdown",
   "metadata": {},
   "source": [
    "# Transformer\n",
    "following tutorial in: https://www.youtube.com/watch?v=kCc8FmEb1nY"
   ]
  },
  {
   "cell_type": "code",
   "execution_count": 1,
   "metadata": {},
   "outputs": [],
   "source": [
    "# Get Shakespeare database\n",
    "with open('data/tiny-shakespeare.txt') as f:\n",
    "    text = f.read()"
   ]
  },
  {
   "cell_type": "code",
   "execution_count": 2,
   "metadata": {},
   "outputs": [
    {
     "name": "stdout",
     "output_type": "stream",
     "text": [
      "Length of dataset in chars:  1115394\n"
     ]
    }
   ],
   "source": [
    "print('Length of dataset in chars: ', len(text))"
   ]
  },
  {
   "cell_type": "code",
   "execution_count": 3,
   "metadata": {},
   "outputs": [
    {
     "name": "stdout",
     "output_type": "stream",
     "text": [
      "First Citizen:\n",
      "Before we proceed any further, hear me speak.\n",
      "\n",
      "All:\n",
      "Speak, speak.\n",
      "\n",
      "First Citizen:\n",
      "You are all resolved rather to die than to famish?\n",
      "\n",
      "All:\n",
      "Resolved. resolved.\n",
      "\n",
      "First Citizen:\n",
      "First, you\n"
     ]
    }
   ],
   "source": [
    "# first 200 chars\n",
    "print(text[:200])"
   ]
  },
  {
   "cell_type": "code",
   "execution_count": 4,
   "metadata": {},
   "outputs": [
    {
     "name": "stdout",
     "output_type": "stream",
     "text": [
      "\n",
      " !$&',-.3:;?ABCDEFGHIJKLMNOPQRSTUVWXYZabcdefghijklmnopqrstuvwxyz\n",
      "65\n"
     ]
    }
   ],
   "source": [
    "# find unique chars\n",
    "chars = sorted(list(set(text)))\n",
    "vocab_size = len(chars)\n",
    "print(''.join(chars))\n",
    "print(vocab_size)"
   ]
  },
  {
   "cell_type": "code",
   "execution_count": 9,
   "metadata": {},
   "outputs": [
    {
     "name": "stdout",
     "output_type": "stream",
     "text": [
      "[46, 47, 1, 58, 46, 43, 56, 43]\n",
      "hi there\n"
     ]
    }
   ],
   "source": [
    "# Encode chars to integers and vice versa\n",
    "c2i = {c: i for i, c in enumerate(chars)}\n",
    "i2c = {i: c for i, c in enumerate(chars)}\n",
    "\n",
    "# encode - take a string and encode in integers\n",
    "encode = lambda string: [c2i[c] for c in string]\n",
    "\n",
    "# decode - take a list of integers and produce text\n",
    "decode = lambda list: ''.join([i2c[i] for i in list])\n",
    "\n",
    "print(encode('hi there'))\n",
    "print(decode(encode('hi there')))"
   ]
  },
  {
   "cell_type": "code",
   "execution_count": 10,
   "metadata": {},
   "outputs": [],
   "source": [
    "# encode as a tensor\n",
    "import torch\n",
    "data = torch.tensor(encode(text), dtype=torch.long)"
   ]
  },
  {
   "cell_type": "code",
   "execution_count": 11,
   "metadata": {},
   "outputs": [],
   "source": [
    "# split train and validation sets\n",
    "n = int(0.9 * len(data))\n",
    "train_data = data[:n]\n",
    "val_data = data[n:]"
   ]
  },
  {
   "cell_type": "code",
   "execution_count": 12,
   "metadata": {},
   "outputs": [
    {
     "data": {
      "text/plain": [
       "tensor([18, 47, 56, 57, 58,  1, 15, 47, 58])"
      ]
     },
     "execution_count": 12,
     "metadata": {},
     "output_type": "execute_result"
    }
   ],
   "source": [
    "# max context length\n",
    "block_size = 8\n",
    "train_data[:block_size+1]"
   ]
  },
  {
   "cell_type": "code",
   "execution_count": 13,
   "metadata": {},
   "outputs": [
    {
     "name": "stdout",
     "output_type": "stream",
     "text": [
      "Input: tensor([18]), target: 47\n",
      "Input: tensor([18, 47]), target: 56\n",
      "Input: tensor([18, 47, 56]), target: 57\n",
      "Input: tensor([18, 47, 56, 57]), target: 58\n",
      "Input: tensor([18, 47, 56, 57, 58]), target: 1\n",
      "Input: tensor([18, 47, 56, 57, 58,  1]), target: 15\n",
      "Input: tensor([18, 47, 56, 57, 58,  1, 15]), target: 47\n",
      "Input: tensor([18, 47, 56, 57, 58,  1, 15, 47]), target: 58\n"
     ]
    }
   ],
   "source": [
    "x = train_data[:block_size]\n",
    "y = train_data[1:block_size+1]\n",
    "for t in range(block_size):\n",
    "    context = x[:t+1]\n",
    "    target = y[t]\n",
    "    print(f'Input: {context}, target: {target}')"
   ]
  },
  {
   "cell_type": "code",
   "execution_count": 15,
   "metadata": {},
   "outputs": [
    {
     "name": "stdout",
     "output_type": "stream",
     "text": [
      "Input: tensor([53]), target: 58\n",
      "Input: tensor([53, 58]), target: 46\n",
      "Input: tensor([53, 58, 46]), target: 47\n",
      "Input: tensor([53, 58, 46, 47]), target: 52\n",
      "Input: tensor([53, 58, 46, 47, 52]), target: 45\n",
      "Input: tensor([53, 58, 46, 47, 52, 45]), target: 1\n",
      "Input: tensor([53, 58, 46, 47, 52, 45,  1]), target: 39\n",
      "Input: tensor([53, 58, 46, 47, 52, 45,  1, 39]), target: 50\n",
      "Input: tensor([57]), target: 1\n",
      "Input: tensor([57,  1]), target: 43\n",
      "Input: tensor([57,  1, 43]), target: 44\n",
      "Input: tensor([57,  1, 43, 44]), target: 44\n",
      "Input: tensor([57,  1, 43, 44, 44]), target: 43\n",
      "Input: tensor([57,  1, 43, 44, 44, 43]), target: 41\n",
      "Input: tensor([57,  1, 43, 44, 44, 43, 41]), target: 58\n",
      "Input: tensor([57,  1, 43, 44, 44, 43, 41, 58]), target: 10\n",
      "Input: tensor([61]), target: 46\n",
      "Input: tensor([61, 46]), target: 43\n",
      "Input: tensor([61, 46, 43]), target: 52\n",
      "Input: tensor([61, 46, 43, 52]), target: 1\n",
      "Input: tensor([61, 46, 43, 52,  1]), target: 51\n",
      "Input: tensor([61, 46, 43, 52,  1, 51]), target: 63\n",
      "Input: tensor([61, 46, 43, 52,  1, 51, 63]), target: 1\n",
      "Input: tensor([61, 46, 43, 52,  1, 51, 63,  1]), target: 46\n",
      "Input: tensor([58]), target: 39\n",
      "Input: tensor([58, 39]), target: 63\n",
      "Input: tensor([58, 39, 63]), target: 6\n",
      "Input: tensor([58, 39, 63,  6]), target: 1\n",
      "Input: tensor([58, 39, 63,  6,  1]), target: 58\n",
      "Input: tensor([58, 39, 63,  6,  1, 58]), target: 46\n",
      "Input: tensor([58, 39, 63,  6,  1, 58, 46]), target: 43\n",
      "Input: tensor([58, 39, 63,  6,  1, 58, 46, 43]), target: 1\n"
     ]
    }
   ],
   "source": [
    "# batches\n",
    "batch_size = 4\n",
    "block_size = 8 # time\n",
    "\n",
    "def get_batch(split):\n",
    "    # generate a small batch of data of inputs x and targets y\n",
    "    data = train_data if split == 'train' else val_data\n",
    "    ix = torch.randint(len(data) - block_size, (batch_size,))\n",
    "    x = torch.stack( [data[i:i+block_size] for i in ix] )\n",
    "    y = torch.stack( [data[i+1:i+block_size+1] for i in ix] )\n",
    "    return x, y\n",
    "\n",
    "xb, yb = get_batch('train')\n",
    "for b in range(batch_size):     # batch dimension\n",
    "    for t in range(block_size): # time dimension\n",
    "        context = xb[b, :t+1]\n",
    "        target = yb[b, t]\n",
    "        print(f'Input: {context}, target: {target}')"
   ]
  },
  {
   "cell_type": "markdown",
   "metadata": {},
   "source": [
    "## Bigram Language Model"
   ]
  },
  {
   "cell_type": "code",
   "execution_count": 21,
   "metadata": {},
   "outputs": [
    {
     "name": "stdout",
     "output_type": "stream",
     "text": [
      "torch.Size([32, 65])\n",
      "tensor(4.9138, grad_fn=<NllLossBackward0>)\n",
      "\n",
      "ljLZqqVxAwLGPFvPj&IbaEeJH?OF-C3jSUy'Aw$nIyxBxOSYkgS;mhUf!TFV&AfBO'jAUhxRJ-bM\n",
      "Ze$fLSWaKuRSG;c?KUBSE!V\n"
     ]
    }
   ],
   "source": [
    "import torch.nn as nn\n",
    "from torch.nn import functional as F\n",
    "torch.manual_seed(1000)\n",
    "\n",
    "class BigramLanguageModel(nn.Module):\n",
    "\n",
    "    def __init__(self, vocab_size):\n",
    "        super().__init__()\n",
    "        # read logits for the next token from the lookup table\n",
    "        self.token_embedding_table = nn.Embedding(vocab_size, vocab_size)\n",
    "\n",
    "    def forward(self, idx, targets=None):\n",
    "        # idx and targets are both (B, T) tensor\n",
    "        logits = self.token_embedding_table(idx) # (B,T,C), C is channel or vocab size\n",
    "        if targets is None:\n",
    "            loss = None\n",
    "        else:\n",
    "            B, T, C = logits.shape\n",
    "            logits = logits.view(B*T, C) # channel is expected as second\n",
    "            targets = targets.view(B*T)\n",
    "            loss = F.cross_entropy(logits, targets)\n",
    "        return logits, loss\n",
    "    \n",
    "    def generate(self, idx, max_new_tokens):\n",
    "        # idx is (B, T) array of indices\n",
    "        for _ in range(max_new_tokens):\n",
    "            # get predictions\n",
    "            logits, _ = self(idx)\n",
    "            # work only from the last time step\n",
    "            logits = logits[:, -1, :] # becomes (B, C)\n",
    "            # apply softmax to get probabilities\n",
    "            probs = F.softmax(logits, dim=-1) # (B, C)\n",
    "            # sample from the distribution\n",
    "            idx_next = torch.multinomial(probs, num_samples=1) # (B, 1)\n",
    "            # append new data to time dimension\n",
    "            idx = torch.cat((idx, idx_next), dim=1) # (B, T+1)\n",
    "        return idx\n",
    "\n",
    "m = BigramLanguageModel(vocab_size)\n",
    "out, loss = m(xb, yb)\n",
    "print(out.shape)\n",
    "print(loss)\n",
    "\n",
    "idx = torch.zeros((1, 1), dtype=torch.long)\n",
    "print(decode(m.generate(idx=idx, max_new_tokens=100)[0].tolist()))"
   ]
  },
  {
   "cell_type": "code",
   "execution_count": 22,
   "metadata": {},
   "outputs": [],
   "source": [
    "# create a pytorch optimizer (typical lr is 1e-4, for smaller models can bigger)\n",
    "optimizer = torch.optim.AdamW(m.parameters(), lr=1e-3)"
   ]
  },
  {
   "cell_type": "code",
   "execution_count": 25,
   "metadata": {},
   "outputs": [
    {
     "name": "stdout",
     "output_type": "stream",
     "text": [
      "2.4942922592163086\n"
     ]
    }
   ],
   "source": [
    "batch_size = 32\n",
    "for steps in range(10000):\n",
    "    # sample batch data\n",
    "    xb, yb = get_batch('train')\n",
    "\n",
    "    # eval the loss\n",
    "    logits, loss = m(xb, yb)\n",
    "    optimizer.zero_grad(set_to_none=True)\n",
    "    loss.backward()\n",
    "    optimizer.step()\n",
    "\n",
    "print(loss.item())"
   ]
  },
  {
   "cell_type": "code",
   "execution_count": 27,
   "metadata": {},
   "outputs": [
    {
     "name": "stdout",
     "output_type": "stream",
     "text": [
      "\n",
      "ge sth l\n",
      "NBens me,\n",
      "G ok?\n",
      "\n",
      "Corn casirith\n",
      "Finore fengs, as, leand-fe cofthegrap,-my.\n",
      "PA:\n",
      "Be fr's Vove m,-manouga TCANDIOFLUSOOXur ETathe theore hant h cthag y st tse ourat ber soutothayoris anedkat, d f ders galwngathrogupr mindem aches:\n",
      "\n",
      "NIZWhig. rut:\n",
      "\n",
      "A bendat y o sererseayos cknd,\n",
      "tharofl murf otind, mat:\n",
      "II: lisieay oudeeged\n",
      "OLAnde,\n",
      "Fotul pour.\n",
      "Ber, wegig hefou!\n",
      "CAs nvis, g usath h suris\n",
      "\n",
      "KENTd ak, osagedar ss,-m ss w.\n",
      "\n",
      "\n",
      "Boutore g'lewhenoulle ar lem r ucosendus fu\n",
      "\n",
      "RYoy my bea and t'd,\n",
      "As: s s\n"
     ]
    }
   ],
   "source": [
    "idx = torch.zeros((1, 1), dtype=torch.long)\n",
    "print(decode(m.generate(idx=idx, max_new_tokens=500)[0].tolist()))"
   ]
  },
  {
   "cell_type": "markdown",
   "metadata": {},
   "source": [
    "## Self Attention"
   ]
  },
  {
   "cell_type": "code",
   "execution_count": 28,
   "metadata": {},
   "outputs": [
    {
     "data": {
      "text/plain": [
       "torch.Size([4, 8, 2])"
      ]
     },
     "execution_count": 28,
     "metadata": {},
     "output_type": "execute_result"
    }
   ],
   "source": [
    "torch.manual_seed(1000)\n",
    "B, T, C = 4, 8, 2 # batch, time, channel\n",
    "x = torch.rand(B, T, C)\n",
    "x.shape"
   ]
  },
  {
   "cell_type": "code",
   "execution_count": 33,
   "metadata": {},
   "outputs": [],
   "source": [
    "# a simple form of attention would be to average across past and current token\n",
    "# we want x[b, t] = mean_{i<=t} x[b, i]\n",
    "# averaging is analogous to bag of words\n",
    "xbow = torch.zeros((B, T, C))\n",
    "for b in range(B):\n",
    "    for t in range(T):\n",
    "        xprev = x[b, :t+1]\n",
    "        xbow[b, t] = torch.mean(xprev, 0)"
   ]
  },
  {
   "cell_type": "code",
   "execution_count": 34,
   "metadata": {},
   "outputs": [
    {
     "data": {
      "text/plain": [
       "tensor([[0.3189, 0.6136],\n",
       "        [0.4418, 0.2580],\n",
       "        [0.2724, 0.6261],\n",
       "        [0.4410, 0.3653],\n",
       "        [0.3535, 0.5971],\n",
       "        [0.3572, 0.4807],\n",
       "        [0.4217, 0.1254],\n",
       "        [0.6818, 0.0571]])"
      ]
     },
     "execution_count": 34,
     "metadata": {},
     "output_type": "execute_result"
    }
   ],
   "source": [
    "x[0]"
   ]
  },
  {
   "cell_type": "code",
   "execution_count": 35,
   "metadata": {},
   "outputs": [
    {
     "data": {
      "text/plain": [
       "tensor([[0.3189, 0.6136],\n",
       "        [0.3804, 0.4358],\n",
       "        [0.3444, 0.4992],\n",
       "        [0.3685, 0.4657],\n",
       "        [0.3655, 0.4920],\n",
       "        [0.3641, 0.4901],\n",
       "        [0.3723, 0.4380],\n",
       "        [0.4110, 0.3904]])"
      ]
     },
     "execution_count": 35,
     "metadata": {},
     "output_type": "execute_result"
    }
   ],
   "source": [
    "xbow[0]"
   ]
  },
  {
   "cell_type": "code",
   "execution_count": 36,
   "metadata": {},
   "outputs": [
    {
     "name": "stdout",
     "output_type": "stream",
     "text": [
      "tensor([[1., 0., 0.],\n",
      "        [1., 1., 0.],\n",
      "        [1., 1., 1.]])\n",
      "tensor([[2., 7.],\n",
      "        [6., 4.],\n",
      "        [6., 5.]])\n",
      "tensor([[ 2.,  7.],\n",
      "        [ 8., 11.],\n",
      "        [14., 16.]])\n"
     ]
    }
   ],
   "source": [
    "# use matrix mult for efficiency\n",
    "# e.g. 2nd row of tril averages first two elements\n",
    "torch.manual_seed(42)\n",
    "a = torch.tril(torch.ones(3, 3))\n",
    "a = a / torch.sum(a, dim=1, keepdim=True)\n",
    "b = torch.randint(0, 10, (3, 2)).float()\n",
    "c = a @ b\n",
    "print(a)\n",
    "print(b)\n",
    "print(c)"
   ]
  },
  {
   "cell_type": "code",
   "execution_count": 37,
   "metadata": {},
   "outputs": [],
   "source": [
    "# average using a matrix\n",
    "wei = torch.tril(torch.ones(T, T))\n",
    "wei = wei / torch.sum(wei, dim=1, keepdim=True)\n",
    "xbow2 = wei @ x # (T, T) @ (B, T, C) --> (B, T, C), because of broadcasting"
   ]
  },
  {
   "cell_type": "code",
   "execution_count": 38,
   "metadata": {},
   "outputs": [
    {
     "data": {
      "text/plain": [
       "True"
      ]
     },
     "execution_count": 38,
     "metadata": {},
     "output_type": "execute_result"
    }
   ],
   "source": [
    "torch.allclose(xbow, xbow2)"
   ]
  },
  {
   "cell_type": "code",
   "execution_count": 40,
   "metadata": {},
   "outputs": [
    {
     "data": {
      "text/plain": [
       "tensor([[1.0000, 0.0000, 0.0000, 0.0000, 0.0000, 0.0000, 0.0000, 0.0000],\n",
       "        [0.5000, 0.5000, 0.0000, 0.0000, 0.0000, 0.0000, 0.0000, 0.0000],\n",
       "        [0.3333, 0.3333, 0.3333, 0.0000, 0.0000, 0.0000, 0.0000, 0.0000],\n",
       "        [0.2500, 0.2500, 0.2500, 0.2500, 0.0000, 0.0000, 0.0000, 0.0000],\n",
       "        [0.2000, 0.2000, 0.2000, 0.2000, 0.2000, 0.0000, 0.0000, 0.0000],\n",
       "        [0.1667, 0.1667, 0.1667, 0.1667, 0.1667, 0.1667, 0.0000, 0.0000],\n",
       "        [0.1429, 0.1429, 0.1429, 0.1429, 0.1429, 0.1429, 0.1429, 0.0000],\n",
       "        [0.1250, 0.1250, 0.1250, 0.1250, 0.1250, 0.1250, 0.1250, 0.1250]])"
      ]
     },
     "execution_count": 40,
     "metadata": {},
     "output_type": "execute_result"
    }
   ],
   "source": [
    "# averaging using softmax\n",
    "tril = torch.tril(torch.ones(T, T))\n",
    "wei = torch.zeros((T, T)) # weights can be looked as strength of connection\n",
    "wei = wei.masked_fill(tril==0, float('-inf')) # override those in the past, which cannot be used\n",
    "wei = F.softmax(wei, dim=1)\n",
    "wei"
   ]
  },
  {
   "cell_type": "markdown",
   "metadata": {},
   "source": [
    "## Self Attention for a Single Head"
   ]
  },
  {
   "cell_type": "code",
   "execution_count": 43,
   "metadata": {},
   "outputs": [
    {
     "data": {
      "text/plain": [
       "tensor([[9.9233e-02, 0.0000e+00, 0.0000e+00, 0.0000e+00, 0.0000e+00, 0.0000e+00,\n",
       "         0.0000e+00, 0.0000e+00],\n",
       "        [7.5979e-03, 2.0696e-03, 0.0000e+00, 0.0000e+00, 0.0000e+00, 0.0000e+00,\n",
       "         0.0000e+00, 0.0000e+00],\n",
       "        [4.7314e-03, 5.1011e-02, 1.7596e-02, 0.0000e+00, 0.0000e+00, 0.0000e+00,\n",
       "         0.0000e+00, 0.0000e+00],\n",
       "        [2.9592e-02, 8.5036e-01, 6.1478e-01, 4.7717e-03, 0.0000e+00, 0.0000e+00,\n",
       "         0.0000e+00, 0.0000e+00],\n",
       "        [4.0580e-01, 1.4333e-02, 1.3564e-02, 7.5291e-01, 8.0826e-01, 0.0000e+00,\n",
       "         0.0000e+00, 0.0000e+00],\n",
       "        [7.3173e-03, 1.4970e-02, 3.6143e-02, 3.4910e-04, 2.9210e-02, 1.6003e-02,\n",
       "         0.0000e+00, 0.0000e+00],\n",
       "        [1.2455e-01, 5.5340e-03, 2.8228e-01, 1.0573e-01, 4.2355e-02, 4.4684e-01,\n",
       "         1.7650e-01, 0.0000e+00],\n",
       "        [3.2118e-01, 6.1727e-02, 3.5638e-02, 1.3624e-01, 1.2018e-01, 5.3715e-01,\n",
       "         8.2350e-01, 1.0000e+00]], grad_fn=<SelectBackward0>)"
      ]
     },
     "execution_count": 43,
     "metadata": {},
     "output_type": "execute_result"
    }
   ],
   "source": [
    "torch.manual_seed(1000)\n",
    "B, T, C = 4, 8, 32 # batch, time, channel\n",
    "x = torch.randn(B, T, C)\n",
    "\n",
    "# single head attention\n",
    "head_size = 16\n",
    "key = nn.Linear(C, head_size, bias=False) # just matrix multiply\n",
    "query = nn.Linear(C, head_size, bias=False)\n",
    "value = nn.Linear(C, head_size, bias=False)\n",
    "k = key(x) # (B, T, head_size)\n",
    "q = query(x)\n",
    "# communication happens in scalar product\n",
    "wei = q @ k.transpose(-2, -1) # (B, T, 16) @ (B, 16, T) --> (B, T, T)\n",
    "wei = wei * head_size**-0.5 # this is to normalise variance, so that weights are flat at init\n",
    "\n",
    "tril = torch.tril(torch.ones(T, T))\n",
    "# weight are now calculated through attention\n",
    "wei = wei.masked_fill(tril==0, float('-inf')) # override those in the past, which cannot be used\n",
    "wei = F.softmax(wei, dim=1)\n",
    "\n",
    "v = value(x)\n",
    "out = wei @ v\n",
    "\n",
    "wei[0]"
   ]
  },
  {
   "cell_type": "code",
   "execution_count": null,
   "metadata": {},
   "outputs": [],
   "source": []
  }
 ],
 "metadata": {
  "kernelspec": {
   "display_name": "ptenv",
   "language": "python",
   "name": "python3"
  },
  "language_info": {
   "codemirror_mode": {
    "name": "ipython",
    "version": 3
   },
   "file_extension": ".py",
   "mimetype": "text/x-python",
   "name": "python",
   "nbconvert_exporter": "python",
   "pygments_lexer": "ipython3",
   "version": "3.11.3"
  },
  "orig_nbformat": 4
 },
 "nbformat": 4,
 "nbformat_minor": 2
}
